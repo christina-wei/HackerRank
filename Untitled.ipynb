{
 "cells": [
  {
   "cell_type": "markdown",
   "metadata": {},
   "source": [
    "# BotClean\n",
    "\n",
    "https://www.hackerrank.com/challenges/botclean"
   ]
  },
  {
   "cell_type": "code",
   "execution_count": 71,
   "metadata": {},
   "outputs": [],
   "source": [
    "def next_move(posr, posc, board):\n",
    "    \n",
    "    if board[posr][posc] == 'd':\n",
    "        return \"CLEAN\"\n",
    "    \n",
    "    return \"RIGHT\"\n",
    "    \n",
    "    #check adjacent cells\n",
    "    "
   ]
  },
  {
   "cell_type": "code",
   "execution_count": 72,
   "metadata": {},
   "outputs": [
    {
     "name": "stdout",
     "output_type": "stream",
     "text": [
      "0 0\n"
     ]
    }
   ],
   "source": [
    "#Initialization\n",
    "board = ['b---d','-d--d','--dd-','--d--','----d']\n",
    "posr, posc = find_bot(board)\n",
    "print(posr, posc)"
   ]
  },
  {
   "cell_type": "code",
   "execution_count": 73,
   "metadata": {},
   "outputs": [
    {
     "name": "stdout",
     "output_type": "stream",
     "text": [
      "['b---d', '-d--d', '--dd-', '--d--', '----d']\n",
      "['-b--d', '-d--d', '--dd-', '--d--', '----d']\n",
      "['--b-d', '-d--d', '--dd-', '--d--', '----d']\n",
      "['---bd', '-d--d', '--dd-', '--d--', '----d']\n",
      "['----b', '-d--d', '--dd-', '--d--', '----d']\n",
      "Error:cannot move right 0 4\n",
      "You lost - illegal moves\n"
     ]
    }
   ],
   "source": [
    "#run 200 moves\n",
    "for i in range(200):\n",
    "    \n",
    "    print(board)\n",
    "    \n",
    "    move = next_move(posr, posc, board)\n",
    "    exit_code = update_board(posr, posc, board, move)\n",
    "    posr, posc = find_bot(board)\n",
    "    \n",
    "    #ran into issue updating board\n",
    "    if exit_code == -1:\n",
    "        print(\"You lost - illegal moves\")\n",
    "        break;\n",
    "    \n",
    "    if check_clean(board):\n",
    "        print(\"You won!\")\n",
    "    \n",
    "#didn't clean board within 200 moves\n",
    "if i == 199:\n",
    "    print(\"You lost - didn't clean board in 200 moves.\")"
   ]
  },
  {
   "cell_type": "code",
   "execution_count": 65,
   "metadata": {},
   "outputs": [],
   "source": [
    "def find_bot(board):\n",
    "\n",
    "    N = len(board)\n",
    "\n",
    "    for r in range(N):\n",
    "        for c in range(N):\n",
    "            if board[r][c] == 'b':\n",
    "                return r, c\n",
    "    \n",
    "    return -1, -1"
   ]
  },
  {
   "cell_type": "code",
   "execution_count": 15,
   "metadata": {},
   "outputs": [],
   "source": [
    "def change_board(r, c, board, char):\n",
    "#changes board in place\n",
    "    board_row_l = list(board[r])\n",
    "    board_row_l[c] = char\n",
    "    board[r] = ''.join(board_row_l)"
   ]
  },
  {
   "cell_type": "code",
   "execution_count": 69,
   "metadata": {},
   "outputs": [],
   "source": [
    "def update_board(r, c, board, move):\n",
    "    \n",
    "    if move == 'CLEAN':\n",
    "        if board[posr][posc] == 'd':\n",
    "            change_board(posr, posc, board, '-')\n",
    "        else:\n",
    "            print(\"Error:cleaning non-dirty square\",posr, posc)\n",
    "            return -1\n",
    "\n",
    "    if move == 'LEFT':\n",
    "        if posc > 0:\n",
    "            change_board(posr, posc, board, '-')\n",
    "            change_board(posr, posc-1, board, 'b')\n",
    "        else:\n",
    "            print(\"Error:cannot move left\",posr, posc)\n",
    "            return -1\n",
    "\n",
    "    if move == 'RIGHT':\n",
    "        if posc < len(board) - 1:\n",
    "            change_board(posr, posc, board, '-')\n",
    "            change_board(posr, posc+1, board, 'b')\n",
    "        else:\n",
    "            print(\"Error:cannot move right\",posr, posc)\n",
    "            return -1\n",
    "\n",
    "    if move == 'UP':\n",
    "        if posr > 0:\n",
    "            change_board(posr, posc, board, '-')\n",
    "            change_board(posr-1, posc, board, 'b')\n",
    "        else:\n",
    "            print(\"Error:cannot move up\",posr, posc)\n",
    "            return -1\n",
    "    \n",
    "    if move == 'DOWN':\n",
    "        if posr < len(board) - 1:\n",
    "            change_board(posr, posc, board, '-')\n",
    "            change_board(posr+1, posc, board, 'b')\n",
    "        else:\n",
    "            print(\"Error:cannot move down\",posr, posc)\n",
    "            return -1\n",
    "    \n",
    "    return 0"
   ]
  },
  {
   "cell_type": "code",
   "execution_count": 47,
   "metadata": {},
   "outputs": [],
   "source": [
    "def check_clean(board):\n",
    "    \n",
    "    for r in board:\n",
    "        if r != '-----':\n",
    "            return False\n",
    "    \n",
    "    return True"
   ]
  }
 ],
 "metadata": {
  "kernelspec": {
   "display_name": "Python 3",
   "language": "python",
   "name": "python3"
  },
  "language_info": {
   "codemirror_mode": {
    "name": "ipython",
    "version": 3
   },
   "file_extension": ".py",
   "mimetype": "text/x-python",
   "name": "python",
   "nbconvert_exporter": "python",
   "pygments_lexer": "ipython3",
   "version": "3.7.7"
  }
 },
 "nbformat": 4,
 "nbformat_minor": 4
}
